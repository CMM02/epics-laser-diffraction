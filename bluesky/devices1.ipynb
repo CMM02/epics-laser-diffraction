{
 "cells": [
  {
   "cell_type": "code",
   "execution_count": 1,
   "id": "11874ecb-b747-42b6-8994-664601b810cd",
   "metadata": {},
   "outputs": [],
   "source": [
    "from ophyd import PVPositioner, EpicsSignal, EpicsSignalRO, EpicsMotor, Device\n",
    "from bluesky.callbacks.mpl_plotting import LivePlot\n",
    "from ophyd.status import Status\n",
    "from ophyd import Component as Cpt\n",
    "from bluesky.plans import scan, count\n",
    "from bluesky import RunEngine\n",
    "import bluesky.plan_stubs as bps\n",
    "from bluesky.callbacks import LiveTable\n",
    "from time import sleep\n",
    "\n",
    "class Laser(PVPositioner):\n",
    "    setpoint = Cpt(EpicsSignal, ':CYCLE')\n",
    "    readback = Cpt(EpicsSignalRO, ':RBK')\n",
    "    done = Cpt(EpicsSignalRO, ':DONE')\n",
    "    enable = Cpt(EpicsSignal, ':ENABLE')\n",
    "    done_value = 1\n",
    "\n",
    "class Motor(Device):\n",
    "    rotation = Cpt(EpicsMotor, ':ROT')\n",
    "    tilt = Cpt(EpicsMotor, ':TILT')\n",
    "    trans = Cpt(EpicsMotor, ':TRANS')\n",
    "    \n",
    "class Picoammeter(Device):\n",
    "    readback = Cpt(EpicsSignal, ':rdCur')\n",
    "    proc = Cpt(EpicsSignal, ':rdCur.PROC')\n",
    "    readRange = Cpt(EpicsSignalRO, ':rdCRng')\n",
    "    setRange = Cpt(EpicsSignal, ':setCRng')\n",
    "        "
   ]
  },
  {
   "cell_type": "code",
   "execution_count": 2,
   "id": "9362ff96-ab97-4421-a527-7cb864a1e256",
   "metadata": {},
   "outputs": [],
   "source": [
    "RE = RunEngine()"
   ]
  },
  {
   "cell_type": "code",
   "execution_count": 3,
   "id": "173d13f1-8267-4e1e-8d22-8c9e4d533cd9",
   "metadata": {},
   "outputs": [
    {
     "name": "stderr",
     "output_type": "stream",
     "text": [
      "**** The executable \"caRepeater\" couldn't be located\n",
      "**** because of errno = \"No such file or directory\".\n",
      "**** You may need to modify your PATH environment variable.\n",
      "**** Unable to start \"CA Repeater\" process.\n"
     ]
    }
   ],
   "source": [
    "laserTest = Laser('laser', name=\"laserTest\")\n",
    "laserTest.wait_for_connection()\n",
    "smaract = Motor('GRATING', name=\"smaract\")\n",
    "smaract.wait_for_connection()\n",
    "meter = Picoammeter('Diode', name = \"meter\")\n",
    "meter.wait_for_connection()"
   ]
  },
  {
   "cell_type": "code",
   "execution_count": 4,
   "id": "e1d56186-cb66-4150-b199-b62c18f3d09a",
   "metadata": {},
   "outputs": [],
   "source": [
    "token = RE.subscribe(LiveTable([\"meter_readback\"]))"
   ]
  },
  {
   "cell_type": "code",
   "execution_count": 5,
   "id": "a9a90dba-4594-4d6e-88a0-17d62fa33ee2",
   "metadata": {},
   "outputs": [],
   "source": [
    "def custom_reading(devices):\n",
    "    yield from bps.sleep(.1)\n",
    "    yield from bps.trigger_and_read(devices)\n",
    "    meter.proc.set(1)\n",
    "    laserTest.set(0)\n",
    "    yield from bps.sleep(.1)\n",
    "    yield from bps.trigger_and_read(devices)\n",
    "    meter.proc.set(1)\n",
    "    laserTest.set(100)"
   ]
  },
  {
   "cell_type": "code",
   "execution_count": 6,
   "id": "966d0d66-e7c8-4ef8-8e2a-cf55af6adb4a",
   "metadata": {},
   "outputs": [],
   "source": [
    "def custom_step(detectors, step, pos_cache):\n",
    "    yield from bps.one_nd_step(detectors, step, pos_cache, take_reading=custom_reading)"
   ]
  },
  {
   "cell_type": "code",
   "execution_count": 9,
   "id": "5caffacd-cfd5-46b4-a1d3-01e9332f616f",
   "metadata": {},
   "outputs": [
    {
     "name": "stdout",
     "output_type": "stream",
     "text": [
      "\n",
      "\n",
      "+-----------+------------+----------------+\n",
      "|   seq_num |       time | meter_readback |\n",
      "+-----------+------------+----------------+\n",
      "|         1 | 07:30:58.5 |   0.0000062477 |\n",
      "|         2 | 07:30:58.6 |   0.0000029681 |\n",
      "|         3 | 07:30:59.3 |   0.0000030291 |\n",
      "|         4 | 07:30:59.4 |   0.0000029388 |\n",
      "|         5 | 07:31:00.0 |   0.0000030055 |\n",
      "|         6 | 07:31:00.1 |   0.0000029264 |\n",
      "|         7 | 07:31:00.7 |   0.0000029938 |\n",
      "|         8 | 07:31:00.9 |   0.0000029171 |\n",
      "|         9 | 07:31:01.5 |   0.0000029712 |\n",
      "|        10 | 07:31:01.6 |   0.0000029018 |\n",
      "|        11 | 07:31:02.2 |   0.0000029482 |\n",
      "|        12 | 07:31:02.3 |   0.0000028805 |\n",
      "|        13 | 07:31:02.9 |   0.0000029225 |\n",
      "|        14 | 07:31:03.1 |   0.0000028600 |\n",
      "|        15 | 07:31:03.7 |   0.0000029112 |\n",
      "|        16 | 07:31:03.8 |   0.0000028616 |\n",
      "|        17 | 07:31:04.4 |   0.0000029058 |\n",
      "|        18 | 07:31:04.5 |   0.0000028524 |\n",
      "|        19 | 07:31:05.2 |   0.0000029078 |\n",
      "|        20 | 07:31:05.3 |   0.0000028338 |\n",
      "|        21 | 07:31:05.9 |   0.0000029340 |\n",
      "|        22 | 07:31:06.1 |   0.0000028203 |\n",
      "|        23 | 07:31:06.7 |   0.0000041440 |\n",
      "|        24 | 07:31:06.9 |   0.0000028063 |\n",
      "|        25 | 07:31:07.5 |   0.0000099225 |\n",
      "|        26 | 07:31:07.6 |   0.0000027887 |\n",
      "|        27 | 07:31:08.2 |   0.0000190068 |\n",
      "|        28 | 07:31:08.4 |   0.0000027718 |\n",
      "|        29 | 07:31:09.0 |   0.0000290591 |\n",
      "|        30 | 07:31:09.1 |   0.0000027670 |\n",
      "|        31 | 07:31:09.7 |   0.0000358840 |\n",
      "|        32 | 07:31:09.9 |   0.0000027426 |\n",
      "|        33 | 07:31:10.5 |   0.0000348104 |\n",
      "|        34 | 07:31:10.6 |   0.0000027286 |\n",
      "|        35 | 07:31:11.0 |   0.0000501472 |\n",
      "|        36 | 07:31:11.2 |   0.0000027241 |\n",
      "|        37 | 07:31:11.8 |   0.0000550081 |\n",
      "|        38 | 07:31:11.9 |   0.0000027168 |\n",
      "|        39 | 07:31:12.5 |   0.0000576690 |\n",
      "|        40 | 07:31:12.6 |   0.0000027006 |\n",
      "+-----------+------------+----------------+\n",
      "generator scan ['579dd770'] (scan num: 3)\n",
      "\n",
      "\n"
     ]
    },
    {
     "data": {
      "image/png": "[encoded data removed]",
      "text/plain": [
       "<Figure size 640x480 with 1 Axes>"
      ]
     },
     "metadata": {},
     "output_type": "display_data"
    },
    {
     "name": "stderr",
     "output_type": "stream",
     "text": [
      "CA.Client.Exception...............................................\n",
      "    Warning: \"Virtual circuit disconnect\"\n",
      "    Context: \"iocsc1ess5x.ews.bessy.de:5064\"\n",
      "    Source File: ../cac.cpp line 1237\n",
      "    Current Time: Thu Aug 28 2025 07:31:45.948129766\n",
      "..................................................................\n"
     ]
    }
   ],
   "source": [
    "from databroker import Broker\n",
    "db = Broker.named('temp')\n",
    "RE.subscribe(db.insert)\n",
    "scan_data, = RE(scan([meter.readback], smaract.rotation, -1000000, 1000000, 20, per_step=custom_step), LivePlot('meter_readback', 'smaract_rotation'))"
   ]
  },
  {
   "cell_type": "code",
   "execution_count": 87,
   "id": "7f7cf2f5-2342-47c8-9906-6a5b9bcbab3f",
   "metadata": {},
   "outputs": [],
   "source": [
    "header = db[scan_data]\n",
    "wavelength = 650e-9\n",
    "\n",
    "data = header.table()\n",
    "time = data.time\n",
    "rbk = data.meter_readback\n",
    "rot = data.smaract_rotation"
   ]
  },
  {
   "cell_type": "code",
   "execution_count": 102,
   "id": "7254ff6a-3ca7-4712-aa1e-e45488aa241b",
   "metadata": {},
   "outputs": [],
   "source": [
    "import matplotlib.pyplot as plot\n",
    "rbk_on = []\n",
    "rbk_off = []\n",
    "for ele, idx in enumerate(rbk):\n",
    "    if ele % 2 == 0:\n",
    "        rbk_on.append(idx)\n",
    "    else:\n",
    "        rbk_off.append(idx)\n",
    "\n",
    "rot_processed = []\n",
    "for ele, idx in enumerate(rot):\n",
    "    if ele % 2 == 0:\n",
    "        rot_processed.append(idx/1e6)\n",
    "\n",
    "rbk_no_noise = [(rbk_on[i] - rbk_off[i]) for i in range(len(rbk_on))]"
   ]
  },
  {
   "cell_type": "code",
   "execution_count": 103,
   "id": "a79f62bf-68f3-4a6d-a036-eada7c07dfe7",
   "metadata": {},
   "outputs": [],
   "source": [
    "import pandas as pd\n",
    "df = pd.DataFrame()\n",
    "df['time'] = time\n",
    "df['readback'] = rbk\n",
    "df['angle'] = rot\n",
    "\n",
    "df.to_csv('run_7.csv', index=False)\n"
   ]
  },
  {
   "cell_type": "code",
   "execution_count": 106,
   "id": "3413a833-b615-464a-be3e-579c8756d1c3",
   "metadata": {},
   "outputs": [
    {
     "data": {
      "image/png": "[encoded data removed]",
      "text/plain": [
       "<Figure size 640x480 with 1 Axes>"
      ]
     },
     "metadata": {},
     "output_type": "display_data"
    }
   ],
   "source": [
    "from scipy.signal import find_peaks\n",
    "\n",
    "peaks, _ = find_peaks(rbk_no_noise, prominence=1e-6)\n",
    "plot.plot(rot_processed, rbk_no_noise, label = 'current')\n",
    "\n",
    "pk_vals = [rbk_no_noise[idx] for idx in peaks]\n",
    "rot_vals = [rot_processed[idx] for idx in peaks]\n",
    "\n",
    "plot.scatter(rot_vals, pk_vals, marker='x', color='red', label='peaks') \n",
    "plot.xlabel(\"Rotation [Deg]\")\n",
    "plot.ylabel(\"Current [A]\")\n",
    "plot.legend()\n",
    "\n",
    "plot.savefig('run_7.png', format='png')"
   ]
  },
  {
   "cell_type": "code",
   "execution_count": 107,
   "id": "28fd121d-e5d5-4f26-b1c9-a322eb721713",
   "metadata": {},
   "outputs": [
    {
     "name": "stdout",
     "output_type": "stream",
     "text": [
      "[689211.13576151 230046.28851918 425237.99959122 530075.64726611]\n"
     ]
    }
   ],
   "source": [
    "thetas = list(rot[peaks])\n",
    "center = peaks[2]\n",
    "center_theta = rot[center]\n",
    "dtheta = []\n",
    "\n",
    "for i in [0,1,3,4]:\n",
    "    dtheta.append(abs((thetas[i] - center_theta) / 1e6))\n",
    "\n",
    "m = [2,1,1,2]\n",
    "grating_density = abs(1/(wavelength*(m/np.sin(dtheta))))\n"
   ]
  },
  {
   "cell_type": "code",
   "execution_count": 108,
   "id": "10f76e34-db29-4752-a923-13e1a689f08c",
   "metadata": {},
   "outputs": [],
   "source": [
    "np.savetxt('grating_7.csv', grating_density)"
   ]
  },
  {
   "cell_type": "code",
   "execution_count": null,
   "id": "e15a2104-e6bd-4e1e-9498-08d79d2644fb",
   "metadata": {},
   "outputs": [],
   "source": []
  }
 ],
 "metadata": {
  "kernelspec": {
   "display_name": "Python 3 (ipykernel)",
   "language": "python",
   "name": "python3"
  },
  "language_info": {
   "codemirror_mode": {
    "name": "ipython",
    "version": 3
   },
   "file_extension": ".py",
   "mimetype": "text/x-python",
   "name": "python",
   "nbconvert_exporter": "python",
   "pygments_lexer": "ipython3",
   "version": "3.12.6"
  }
 },
 "nbformat": 4,
 "nbformat_minor": 5
}
